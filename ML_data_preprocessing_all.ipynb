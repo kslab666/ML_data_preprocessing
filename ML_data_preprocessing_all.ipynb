{
 "cells": [
  {
   "cell_type": "code",
   "execution_count": null,
   "metadata": {},
   "outputs": [],
   "source": [
    "%pip install pandas numpy matplotlib scikit-learn"
   ]
  },
  {
   "cell_type": "markdown",
   "metadata": {
    "id": "bGPLRqx2-Of2"
   },
   "source": [
    "# 載入與探索資料 (使用 Pandas 與 scikit-learn)\n",
    "* 我們常用 Pandas DataFrame 來處理結構化的資料\n",
    "\n",
    "* 載入 CSV 檔案： 使用 pd.read_csv()\n",
    "\n",
    "* 載入 scikit-learn 內建資料集： scikit-learn 提供了一些範例資料集 (如波士頓房價資料集)，這些資料集載入後通常是 dictionary 格式\n",
    "\n",
    "* 可以透過 `.keys()` 查看包含哪些內容 (如 data, target, feature_names, description)\n",
    "* 需要將其轉換為 DataFrame 格式以便操作"
   ]
  },
  {
   "cell_type": "code",
   "execution_count": null,
   "metadata": {
    "colab": {
     "base_uri": "https://localhost:8080/",
     "height": 206
    },
    "executionInfo": {
     "elapsed": 59,
     "status": "ok",
     "timestamp": 1759734207925,
     "user": {
      "displayName": "黃鈺晴",
      "userId": "04936038635646045030"
     },
     "user_tz": -480
    },
    "id": "9TwEcXWpw-wY",
    "outputId": "e98e4a98-e588-4101-bc17-ddaadc5fbbca"
   },
   "outputs": [],
   "source": [
    "# 載入必要的套件、從 scikit-learn 套件中匯入 fetch_openml函式來從 OpenML 平台（一個公開的資料集儲存庫）下載各種資料集。\n",
    "# name='boston'：指定要下載的資料集名稱。version=1：指定版本號。\n",
    "# as_frame=True：預設值為False True讓輸出的資料以 pandas DataFrame 格式呈現；False則是傳回 numpy 陣列\n",
    "# fetch_openml() 回傳一個 Bunch 物件（類似字典）\n",
    "#boston.frame：當 as_frame=True 時，包含所有欄位的 DataFrame。\n",
    "import pandas as pd\n",
    "from sklearn.datasets import fetch_openml\n",
    "boston = fetch_openml(name='boston', version=1, as_frame=True)\n",
    "df = boston.frame\n",
    "df[\"target\"]=boston.target\n",
    "df.head(5)"
   ]
  },
  {
   "cell_type": "markdown",
   "metadata": {
    "id": "Yte7XqeCiFy_"
   },
   "source": [
    "# 課堂練習: 探索 DataFrame(上一周上課內容複習)\n",
    "* 查看前/後幾筆資料：df.head() / df.tail() (預設顯示前/後 5 筆，可指定數字)\n",
    "\n",
    "* 查看資料的維度 (形狀)：df.shape (回傳 (列數, 欄位數))\n",
    "\n",
    "* 查看資料的基本資訊 (欄位數、資料筆數、是否有缺失值、資料型態)：df.info()\n",
    "\n",
    "* 查看數值欄位的敘述性統計 (平均值、標準差、最小值、最大值、四分位數等)：df.describe()\n",
    "\n",
    "* 查看類別欄位中各類別的出現次數：df['欄位名稱'].value_counts()"
   ]
  },
  {
   "cell_type": "code",
   "execution_count": null,
   "metadata": {
    "colab": {
     "base_uri": "https://localhost:8080/",
     "height": 143
    },
    "executionInfo": {
     "elapsed": 59,
     "status": "ok",
     "timestamp": 1759734496497,
     "user": {
      "displayName": "黃鈺晴",
      "userId": "04936038635646045030"
     },
     "user_tz": -480
    },
    "id": "-T2gXjrbwsLi",
    "outputId": "279e371d-e3d4-4a13-eb87-f51892af6000"
   },
   "outputs": [],
   "source": [
    "# 查看前三筆資料\n",
    "df.head(3)"
   ]
  },
  {
   "cell_type": "code",
   "execution_count": null,
   "metadata": {
    "colab": {
     "base_uri": "https://localhost:8080/",
     "height": 143
    },
    "executionInfo": {
     "elapsed": 43,
     "status": "ok",
     "timestamp": 1759734499990,
     "user": {
      "displayName": "黃鈺晴",
      "userId": "04936038635646045030"
     },
     "user_tz": -480
    },
    "id": "3Uc2bIHWjGA-",
    "outputId": "8c3d6b5d-1f81-4063-88c3-68adc956fc64"
   },
   "outputs": [],
   "source": [
    "# 查看末三筆資料\n",
    "df.tail(3)"
   ]
  },
  {
   "cell_type": "code",
   "execution_count": null,
   "metadata": {
    "colab": {
     "base_uri": "https://localhost:8080/"
    },
    "executionInfo": {
     "elapsed": 11,
     "status": "ok",
     "timestamp": 1759734504022,
     "user": {
      "displayName": "黃鈺晴",
      "userId": "04936038635646045030"
     },
     "user_tz": -480
    },
    "id": "Z7tImjqTicrR",
    "outputId": "a6665169-b8b9-4ca2-aecd-36bcc270a08a"
   },
   "outputs": [],
   "source": [
    "# 查看資料集大小 (列、欄)\n",
    "df.shape"
   ]
  },
  {
   "cell_type": "code",
   "execution_count": null,
   "metadata": {
    "colab": {
     "base_uri": "https://localhost:8080/"
    },
    "executionInfo": {
     "elapsed": 21,
     "status": "ok",
     "timestamp": 1750840600233,
     "user": {
      "displayName": "chen nicole",
      "userId": "10741717251477288554"
     },
     "user_tz": -480
    },
    "id": "Eyu5B1QhjIvG",
    "outputId": "b55b94d1-96d0-4672-f6a9-4872a82e86a5"
   },
   "outputs": [],
   "source": [
    "# 查看資料集的基本資訊\n",
    "df.info()"
   ]
  },
  {
   "cell_type": "code",
   "execution_count": null,
   "metadata": {
    "colab": {
     "base_uri": "https://localhost:8080/",
     "height": 300
    },
    "executionInfo": {
     "elapsed": 87,
     "status": "ok",
     "timestamp": 1750840601682,
     "user": {
      "displayName": "chen nicole",
      "userId": "10741717251477288554"
     },
     "user_tz": -480
    },
    "id": "FoPykZm_jTGe",
    "outputId": "822d2392-4326-4e17-96fa-b05423d1df67"
   },
   "outputs": [],
   "source": [
    "# 查看數值欄位的敘述性統計\n",
    "df.describe()"
   ]
  },
  {
   "cell_type": "code",
   "execution_count": null,
   "metadata": {
    "colab": {
     "base_uri": "https://localhost:8080/",
     "height": 489
    },
    "executionInfo": {
     "elapsed": 51,
     "status": "ok",
     "timestamp": 1759734719612,
     "user": {
      "displayName": "黃鈺晴",
      "userId": "04936038635646045030"
     },
     "user_tz": -480
    },
    "id": "Tz47vFk0jdDH",
    "outputId": "90e8f49c-2417-4a09-ad3f-c8aafc4a4794"
   },
   "outputs": [],
   "source": [
    "# 查看類別欄位 'MEDV' 中各類別的出現次數\n",
    "df['MEDV'].value_counts()"
   ]
  },
  {
   "cell_type": "markdown",
   "metadata": {
    "id": "qlxCTqXzsAhi"
   },
   "source": [
    "# 資料清理 - 處理遺失值 (Missing Values)\n",
    "\n",
    "* 使用 `df.info()` 可以快速查看每個欄位非空值的數量，從而推算遺失值.\n",
    "* 使用 `df.isnull()` 或 `df.isna()`：回傳一個與 DataFrame 形狀相同的 boolean DataFrame，True 表示該位置是遺失值 (NaN)，False 表示非遺失值.\n",
    "* 搭配 .sum()：`df.isnull().sum()` 可以快速計算每個欄位的遺失值數量.\n",
    "* 搭配 .any()：`df.isnull().any()` 可以快速判斷哪些欄位包含遺失值.\n"
   ]
  },
  {
   "cell_type": "markdown",
   "metadata": {
    "id": "VeCLIqzSskcs"
   },
   "source": [
    "# 課堂練習：刪除缺失值\n",
    "\n",
    "* 任務： 創建一個新的 DataFrame，其中包含幾列和幾行，並手動將一些值設為 np.nan。\n",
    "\n",
    "然後嘗試使用 `df.dropna()` 刪除包含遺失值的列。\n",
    "\n",
    "觀察刪除前後 DataFrame 的形狀 (.shape) 變化。"
   ]
  },
  {
   "cell_type": "code",
   "execution_count": null,
   "metadata": {
    "colab": {
     "base_uri": "https://localhost:8080/"
    },
    "executionInfo": {
     "elapsed": 50,
     "status": "ok",
     "timestamp": 1759735067024,
     "user": {
      "displayName": "黃鈺晴",
      "userId": "04936038635646045030"
     },
     "user_tz": -480
    },
    "id": "HF5fimpQsk3b",
    "outputId": "7c701a7f-f4db-4bd5-f634-66fdfe3f9b83"
   },
   "outputs": [],
   "source": [
    "import pandas as pd\n",
    "import numpy as np\n",
    "\n",
    "# 創建範例 DataFrame\n",
    "data = {\n",
    "    'col1': [1, 2, np.nan, 4],\n",
    "    'col2': [5, np.nan, np.nan, 8],\n",
    "    'col3': [9, 10, 11, 12]  # 補上 col3 的資料\n",
    "}\n",
    "test_df = pd.DataFrame(data)\n",
    "\n",
    "# 觀察原始 DataFrame\n",
    "print(\"原始 DataFrame:\\n\", test_df)\n",
    "print(\"原始形狀:\", test_df.shape)\n",
    "\n",
    "# 處理缺失值後再次觀察\n",
    "test_df_dropped = test_df.dropna()  # 刪除包含 NaN 的列\n",
    "print(\"\\n刪除遺失值後的 DataFrame:\\n\", test_df_dropped)\n",
    "print(\"刪除遺失值後的形狀:\", test_df_dropped.shape)"
   ]
  },
  {
   "cell_type": "code",
   "execution_count": null,
   "metadata": {
    "colab": {
     "base_uri": "https://localhost:8080/"
    },
    "executionInfo": {
     "elapsed": 41,
     "status": "ok",
     "timestamp": 1759735290075,
     "user": {
      "displayName": "黃鈺晴",
      "userId": "04936038635646045030"
     },
     "user_tz": -480
    },
    "id": "hs0fa40MZL7l",
    "outputId": "d3cc8907-8db2-4a6e-9205-6820a66ddaa0"
   },
   "outputs": [],
   "source": [
    "# 處理缺失值後再次觀察\n",
    "test_df_dropped_column = test_df.dropna(axis=1)  # 刪除包含 NaN 的欄\n",
    "print(\"\\n刪除遺失值後的 DataFrame:\\n\", test_df_dropped_column)\n",
    "print(\"刪除遺失值後的形狀:\", test_df_dropped_column.shape)"
   ]
  },
  {
   "cell_type": "code",
   "execution_count": null,
   "metadata": {
    "colab": {
     "base_uri": "https://localhost:8080/"
    },
    "executionInfo": {
     "elapsed": 13,
     "status": "ok",
     "timestamp": 1759735388528,
     "user": {
      "displayName": "黃鈺晴",
      "userId": "04936038635646045030"
     },
     "user_tz": -480
    },
    "id": "mj_z0Q-8Zd2v",
    "outputId": "3e1aacb8-96af-46aa-fa6d-9b8515723844"
   },
   "outputs": [],
   "source": [
    "# 處理缺失值後再次觀察\n",
    "test_df_dropped_thresh2 = test_df.dropna(thresh=2)  #刪除遺失值數量超過 N 的列\n",
    "print(\"\\n刪除遺失值後的 DataFrame:\\n\", test_df_dropped_thresh2)\n",
    "print(\"刪除遺失值後的形狀:\", test_df_dropped_thresh2.shape)"
   ]
  },
  {
   "cell_type": "markdown",
   "metadata": {
    "id": "49GtgmqdzJcf"
   },
   "source": [
    "# 課堂練習: 填補缺失值"
   ]
  },
  {
   "cell_type": "code",
   "execution_count": null,
   "metadata": {
    "colab": {
     "base_uri": "https://localhost:8080/",
     "height": 206
    },
    "executionInfo": {
     "elapsed": 70,
     "status": "ok",
     "timestamp": 1750840650396,
     "user": {
      "displayName": "chen nicole",
      "userId": "10741717251477288554"
     },
     "user_tz": -480
    },
    "id": "X8j4lT_YPBOp",
    "outputId": "f8ffc8ac-f26c-4c14-bfa0-6c469c9ff9c0"
   },
   "outputs": [],
   "source": [
    " # 載入必要的套件\n",
    "import pandas as pd\n",
    "from sklearn.datasets import fetch_openml\n",
    "boston = fetch_openml(name='boston', version=1, as_frame=True)\n",
    "df = boston.frame\n",
    "df.head(5)"
   ]
  },
  {
   "cell_type": "code",
   "execution_count": null,
   "metadata": {
    "colab": {
     "base_uri": "https://localhost:8080/"
    },
    "executionInfo": {
     "elapsed": 62,
     "status": "ok",
     "timestamp": 1759737346289,
     "user": {
      "displayName": "黃鈺晴",
      "userId": "04936038635646045030"
     },
     "user_tz": -480
    },
    "id": "pvQAcwzvzJxh",
    "outputId": "cd903fe8-3024-4206-aa27-d74f4463f0cf"
   },
   "outputs": [],
   "source": [
    "#處理遺失值\n",
    "import pandas as pd\n",
    "import numpy as np\n",
    "\n",
    "# 建立模擬資料\n",
    "data = {\n",
    "    'CRIM': [0.1, np.nan, 0.3, 0.2],\n",
    "    'RM': [6.5, 7.1, np.nan, 5.9],\n",
    "    'AGE': [65, 72, np.nan, 65]\n",
    "}\n",
    "\n",
    "df = pd.DataFrame(data)\n",
    "\n",
    "print(\"原始資料：\")\n",
    "print(df)\n",
    "#查看資料\n",
    "print(\"查看資料分布：\\n\",df.describe())\n",
    "# 平均值填補 CRIM 欄位\n",
    "df['CRIM'] = df['CRIM'].fillna(df['CRIM'].mean())\n",
    "print(\"\\n平均值填補 CRIM 欄位：\\n\",df)\n",
    "# 中位數填補 RM 欄位\n",
    "df['RM'] = df['RM'].fillna(df['RM'].median())\n",
    "print(\"\\n中位數填補 RM 欄位：\\n\",df)\n",
    "# 眾數填補 AGE 欄位\n",
    "df['AGE'] = df['AGE'].fillna(df['AGE'].mode()[0])\n",
    "print(\"\\n眾數填補 AGE 欄位：\\n\",df)\n",
    "\n",
    "print(\"\\n填補後的資料：\")\n",
    "print(df)\n",
    "\n"
   ]
  },
  {
   "cell_type": "markdown",
   "metadata": {
    "id": "P2PPz4z25YDS"
   },
   "source": [
    "# 課堂範例: 處理異常值(接續波士頓房價資料集)\n"
   ]
  },
  {
   "cell_type": "code",
   "execution_count": null,
   "metadata": {
    "colab": {
     "base_uri": "https://localhost:8080/",
     "height": 1000
    },
    "executionInfo": {
     "elapsed": 291,
     "status": "ok",
     "timestamp": 1759738143458,
     "user": {
      "displayName": "黃鈺晴",
      "userId": "04936038635646045030"
     },
     "user_tz": -480
    },
    "id": "gTxpd_CFPFHK",
    "outputId": "5f09f83f-95ae-4d6a-f21c-68a35d52e55a"
   },
   "outputs": [],
   "source": [
    " # 載入必要的套件\n",
    "import pandas as pd\n",
    "import matplotlib.pyplot as plt\n",
    "from sklearn.datasets import fetch_openml\n",
    "boston = fetch_openml(name='boston', version=1, as_frame=True)\n",
    "df = boston.frame\n",
    "df.head(5)\n",
    "\n",
    "\n",
    "# 只選擇數值型欄位\n",
    "numeric_cols = df.select_dtypes(include='number').columns.tolist()\n",
    "\n",
    "# 畫出這些欄位的 boxplot\n",
    "plt.figure(figsize=(max(12, len(numeric_cols) * 0.8), 6))\n",
    "plt.boxplot(df[numeric_cols].values, tick_labels=numeric_cols, showfliers=True)\n",
    "\n",
    "plt.xticks(rotation=45, ha=\"right\")\n",
    "plt.title(\"Boston Housing Dataset – Box Plots of Numerical Features\")\n",
    "plt.tight_layout()\n",
    "plt.show()"
   ]
  },
  {
   "cell_type": "code",
   "execution_count": null,
   "metadata": {
    "colab": {
     "base_uri": "https://localhost:8080/",
     "height": 753
    },
    "executionInfo": {
     "elapsed": 178,
     "status": "ok",
     "timestamp": 1759739619206,
     "user": {
      "displayName": "黃鈺晴",
      "userId": "04936038635646045030"
     },
     "user_tz": -480
    },
    "id": "cRnRvCFziONd",
    "outputId": "aff4d629-f559-4586-d1c8-37ae1482c4f6"
   },
   "outputs": [],
   "source": [
    "# 畫出這些欄位的 boxplot\n",
    "# CRIM: 有非常多的點遠高於上界，表示有些地區的犯罪率極高。每人平均的城鎮犯罪率（per capita crime rate by town）\n",
    "import pandas as pd\n",
    "import matplotlib.pyplot as plt\n",
    "from sklearn.datasets import fetch_openml\n",
    "boston = fetch_openml(name='boston', version=1, as_frame=True)\n",
    "df = boston.frame\n",
    "df.head(5)\n",
    "print(df[\"CRIM\"].values,\"type:\",type(df[\"CRIM\"].values))\n",
    "plt.figure(figsize=(max(12, len(numeric_cols) * 0.8), 6))\n",
    "plt.boxplot(df[\"CRIM\"].values, tick_labels=[\"CRIM\"])\n",
    "\n",
    "plt.xticks(rotation=45, ha=\"right\")\n",
    "plt.title(\"Boston Housing Dataset – Box Plots [CRIM]\")\n",
    "plt.tight_layout()\n",
    "plt.show()\n"
   ]
  },
  {
   "cell_type": "code",
   "execution_count": null,
   "metadata": {
    "colab": {
     "base_uri": "https://localhost:8080/",
     "height": 496
    },
    "executionInfo": {
     "elapsed": 15,
     "status": "ok",
     "timestamp": 1759739438598,
     "user": {
      "displayName": "黃鈺晴",
      "userId": "04936038635646045030"
     },
     "user_tz": -480
    },
    "id": "mgjjj1EG5bBS",
    "outputId": "e5487e9a-c071-48b7-f06a-2175420e4230"
   },
   "outputs": [],
   "source": [
    "# 使用 IQR 方法偵測異常值 (以波士頓房價資料集的 'CRIM' 欄位為例)\n",
    "# 首先使用 describe() 獲取四分位數\n",
    "desc = df['CRIM'].describe()\n",
    "Q1 = desc['25%']\n",
    "Q3 = desc['75%']\n",
    "IQR = Q3 - Q1\n",
    "lower_bound = Q1 - 1.5 * IQR\n",
    "upper_bound = Q3 + 1.5 * IQR\n",
    "print(\"lower_bound:\",lower_bound,\"upper_bound:\",upper_bound)\n",
    "# 找出異常值\n",
    "outliers = df[(df['CRIM'] < lower_bound) | (df['CRIM'] > upper_bound)]\n",
    "\n",
    "print(\"CRIM 欄位的異常值數量:\", len(outliers))\n",
    "print(\"outliers data：\\n\")\n",
    "outliers"
   ]
  },
  {
   "cell_type": "markdown",
   "metadata": {
    "id": "ho7jb66g4vCI"
   },
   "source": [
    "# 課堂練習：處理異常值(接續波士頓房價資料集)\n",
    "\n",
    "1.   任務： 繼續使用波士頓房價資料集 (df)，偵測其他欄位（例如：'TAX' 或 'B'）的異常值。\n",
    "2. 任務： 使用四分位距 (IQR) 方法，計算該欄位的異常值上下限。\n",
    "3. 任務： 找出並列出該欄位中被判定為異常值的資料點數量\n"
   ]
  },
  {
   "cell_type": "code",
   "execution_count": null,
   "metadata": {
    "colab": {
     "base_uri": "https://localhost:8080/"
    },
    "executionInfo": {
     "elapsed": 44,
     "status": "ok",
     "timestamp": 1759739862777,
     "user": {
      "displayName": "黃鈺晴",
      "userId": "04936038635646045030"
     },
     "user_tz": -480
    },
    "id": "8rOk-tX64vVc",
    "outputId": "7f9e2837-2587-4ae5-823b-1d857228b6eb"
   },
   "outputs": [],
   "source": [
    "# 任務 1 & 2\n",
    "selected_column = 'TAX' # 或其他欄位\n",
    "col_desc = df[selected_column].describe()\n",
    "Q1 = col_desc['25%']\n",
    "Q3 = col_desc['75%']\n",
    "IQR = Q3 - Q1\n",
    "lower_bound = Q1 - 1.5 * IQR\n",
    "upper_bound = Q3 + 1.5 * IQR\n",
    "print(f\"{selected_column} 欄位的 IQR 上限: {upper_bound}, 下限: {lower_bound}\\n\")\n",
    "\n",
    "# 任務 3\n",
    "outliers = df[(df[selected_column] < lower_bound) | (df[selected_column] > upper_bound)]\n",
    "print(f\"{selected_column} 欄位的異常值數量: {len(outliers)}\\n\")\n",
    "print(\"部分異常值資料點:\\n\", outliers.head())"
   ]
  },
  {
   "cell_type": "markdown",
   "metadata": {},
   "source": [
    "# 課堂範例: 針對所有欄位計算異常值"
   ]
  },
  {
   "cell_type": "code",
   "execution_count": null,
   "metadata": {
    "colab": {
     "base_uri": "https://localhost:8080/",
     "height": 478
    },
    "executionInfo": {
     "elapsed": 129,
     "status": "ok",
     "timestamp": 1759742659739,
     "user": {
      "displayName": "黃鈺晴",
      "userId": "04936038635646045030"
     },
     "user_tz": -480
    },
    "id": "2ClLvXDvq_1l",
    "outputId": "88719d4e-32b8-45db-b7f1-95baf449a97c"
   },
   "outputs": [],
   "source": [
    "# 載入必要的套件  \n",
    "import pandas as pd\n",
    "import matplotlib.pyplot as plt\n",
    "from sklearn.datasets import fetch_openml\n",
    "boston = fetch_openml(name='boston', version=1, as_frame=True)\n",
    "df = boston.frame\n",
    "df[\"target\"]=boston.target\n",
    "print(df.columns)\n",
    "\n",
    "for col in df.select_dtypes(include=['float64', 'int64']).columns:\n",
    "    col_name = col + \"outlier\"\n",
    "    q1 = df[col].quantile(0.25)\n",
    "    q3 = df[col].quantile(0.75)\n",
    "    IQR = q3 - q1\n",
    "    lower_bound = q1 - 1.5 * IQR\n",
    "    upper_bound = q3 + 1.5 * IQR\n",
    "\n",
    "    # 先全部設為 0（非離群值）\n",
    "    df[col_name] = False\n",
    "\n",
    "    # 再將離群值的位置更新為 1\n",
    "    df.loc[(df[col] < lower_bound) | (df[col] > upper_bound), col_name] = True\n",
    "df[\"out_sum\"]=0\n",
    "for col in df.select_dtypes(include=['boolean']).columns:\n",
    "    if \"outlier\" in col:\n",
    "        #print(df[col],\"type\",type(df[col]))\n",
    "        df[\"out_sum\"] = df[\"out_sum\"] + df[col].astype(int)\n",
    "\n",
    "\n",
    "df[df[\"out_sum\"]==0]\n",
    "\n"
   ]
  },
  {
   "cell_type": "markdown",
   "metadata": {
    "id": "jwPNMU6W7nXg"
   },
   "source": [
    "# 課堂範例: 偵測並移除重複資料"
   ]
  },
  {
   "cell_type": "code",
   "execution_count": null,
   "metadata": {
    "colab": {
     "base_uri": "https://localhost:8080/"
    },
    "executionInfo": {
     "elapsed": 19,
     "status": "ok",
     "timestamp": 1759743153219,
     "user": {
      "displayName": "黃鈺晴",
      "userId": "04936038635646045030"
     },
     "user_tz": -480
    },
    "id": "RSBbM8KK8b13",
    "outputId": "cf9ec649-1977-46b2-f47c-5d751ab8041c"
   },
   "outputs": [],
   "source": [
    "# 建立含重複資料的範例\n",
    "data = {\n",
    "    'Name': ['Alice', 'Bob', 'Charlie', 'Bob', 'Alice', 'Eve'],\n",
    "    'Score': [90, 85, 78, 85, 90, 95]\n",
    "}\n",
    "df = pd.DataFrame(data)\n",
    "\n",
    "print(\"原始資料：\")\n",
    "print(df)\n",
    "\n",
    "# 偵測重複資料\n",
    "print(\"\\n重複資料筆數：\", df.duplicated().sum())\n",
    "print(\"\\n重複資料：\")\n",
    "print(df[df.duplicated()])\n",
    "\n",
    "# 移除重複資料（保留第一次出現）\n",
    "df_cleaned = df.drop_duplicates()\n",
    "print(\"\\n移除重複後的資料：\")\n",
    "print(df_cleaned)"
   ]
  },
  {
   "cell_type": "markdown",
   "metadata": {},
   "source": [
    "# 課堂範例: 標準化(接續波士頓房價資料)"
   ]
  },
  {
   "cell_type": "code",
   "execution_count": null,
   "metadata": {},
   "outputs": [],
   "source": [
    " # 載入必要的套件\n",
    "import pandas as pd\n",
    "from sklearn.datasets import fetch_openml\n",
    "boston = fetch_openml(name='boston', version=1, as_frame=True)\n",
    "df = boston.frame\n",
    "df.head(5)"
   ]
  },
  {
   "cell_type": "code",
   "execution_count": null,
   "metadata": {},
   "outputs": [],
   "source": [
    "# 使用 Scikit-learn 進行標準化範例 (以波士頓房價資料集的 'DIS' 欄位為例)\n",
    "# 注意：標準化通常是對特徵 (X) 進行，不對目標變數 (Y) 進行\n",
    "\n",
    "from sklearn.preprocessing import StandardScaler, MinMaxScaler\n",
    "\n",
    "# 變異數標準化 (Z-score)\n",
    "# fit_transform 會 fit 然後 transform\n",
    "scaler_z = StandardScaler()\n",
    "df['DIS_z'] = scaler_z.fit_transform(df[['DIS']])\n",
    "\n",
    "# 最小-最大標準化 (Min-Max)\n",
    "# fit_transform 會 fit 然後 transform\n",
    "scaler_mm = MinMaxScaler()\n",
    "df['DIS_mm'] = scaler_mm.fit_transform(df[['DIS']])\n",
    "\n",
    "print(df[['DIS', 'DIS_z', 'DIS_mm']].head())\n",
    "print(\"\\n查看標準化後的統計量\")\n",
    "print(df[['DIS_z', 'DIS_mm']].describe()) # 查看標準化後的統計量"
   ]
  },
  {
   "cell_type": "markdown",
   "metadata": {},
   "source": [
    "# 課堂練習：資料轉換(接續波士頓房價資料集)\n",
    "\n",
    "- 任務： 繼續使用波士頓房價資料集 (df)，選擇一個數值欄位（例如：'LSTAT'），嘗試分別對其應用變異數標準化 (StandardScaler) 和最小-最大標準化 (MinMaxScaler)。\n",
    "\n",
    "- 任務： 觀察兩種標準化方法後，新欄位的 .describe() 結果有何不同。"
   ]
  },
  {
   "cell_type": "code",
   "execution_count": null,
   "metadata": {},
   "outputs": [],
   "source": [
    "# 任務 1 & 2\n",
    "from sklearn.preprocessing import StandardScaler, MinMaxScaler #\n",
    "selected_column = 'LSTAT'\n",
    "\n",
    "scaler_z = StandardScaler()\n",
    "df[\"LSTAT_z\"] = scaler_z.fit_transform(df[[selected_column]])\n",
    "\n",
    "scaler_mm = MinMaxScaler()\n",
    "df[\"LSTAT_mm\"] = scaler_mm.fit_transform(df[[selected_column]])\n",
    "\n",
    "print(f\"{selected_column} 欄位標準化後的敘述性統計:\\n\")\n",
    "print(\"Z-score:\\n\", df[\"LSTAT_z\"].describe())\n",
    "print(\"\\nMin-Max:\\n\", df[\"LSTAT_mm\"].describe())"
   ]
  },
  {
   "cell_type": "code",
   "execution_count": null,
   "metadata": {},
   "outputs": [],
   "source": [
    "# 任務 1 & 2\n",
    "from sklearn.preprocessing import StandardScaler, MinMaxScaler #\n",
    "selected_column = 'LSTAT'\n",
    "\n",
    "scaler_z = StandardScaler()\n",
    "df[f'{selected_column}_z'] = scaler_z.fit_transform(df[[selected_column]])\n",
    "\n",
    "scaler_mm = MinMaxScaler()\n",
    "df[f'{selected_column}_mm'] = scaler_mm.fit_transform(df[[selected_column]])\n",
    "\n",
    "print(f\"{selected_column} 欄位標準化後的敘述性統計:\\n\")\n",
    "print(\"Z-score:\\n\", df[f'{selected_column}_z'].describe())\n",
    "print(\"\\nMin-Max:\\n\", df[f'{selected_column}_mm'].describe())"
   ]
  },
  {
   "cell_type": "markdown",
   "metadata": {},
   "source": [
    "# 順序尺度 (Ordinal Scale) 範例程式碼\n",
    "- 順序尺度 (Ordinal Scale)： 類別之間有明確的大小或順序關係 (如：滿意度 1-5 等級，產品品質等級 S/M/L)\n",
    "- 可以直接對應成數值，保留其順序關係\n",
    "- 使用 Pandas 的 .map() 方法或替換功能實現"
   ]
  },
  {
   "cell_type": "code",
   "execution_count": null,
   "metadata": {},
   "outputs": [],
   "source": [
    "# 順序尺度編碼範例 (假設有一個 'size' 欄位: S, M, L)\n",
    "# Series.map(dict) 在 pandas 中進行資料映射\n",
    "data_size = {'size': ['S', 'M', 'L', 'S', 'M', 'L']}\n",
    "df_size = pd.DataFrame(data_size)\n",
    "print(\"type\",type(df_size),\"shape:\",df_size.shape,\"value:\\n\",df_size)\n",
    "size_mapping = {'S': 1, 'M': 2, 'L': 3}\n",
    "print(\"type:\",type(df_size[\"size\"]),\"\\nvalue:\\n\",df_size[\"size\"])\n",
    "df_size['size_encoded'] = df_size['size'].map(size_mapping)\n",
    "print(df_size)"
   ]
  },
  {
   "cell_type": "markdown",
   "metadata": {},
   "source": [
    "# 名目尺度 (Nominal Scale) 範例程式碼\n",
    "- 類別之間沒有大小或順序關係，僅作為區分 (如：性別 男/女，顏色 紅/藍/綠)\n",
    "- 不能直接對應成連續數值，否則模型會誤解其有順序關係\n",
    "- 常用方法是 One-hot Encoding\n",
    "- 將一個有 k 個類別的欄位展開為 k 個新的欄位\n",
    "- 每個新的欄位對應一個類別，該列屬於該類別則為 1，否則為 0\n",
    "- 使用 Pandas 的 pd.get_dummies() 函數或 Scikit-learn 的 OneHotEncoder 實現\n",
    "- 注意：類別種類太多時，One-hot Encoding 可能產生過多特徵，導致「維數災難」"
   ]
  },
  {
   "cell_type": "code",
   "execution_count": null,
   "metadata": {},
   "outputs": [],
   "source": [
    "# 名目尺度 One-hot Encoding 範例 (假設有一個 'color' 欄位: Red, Blue, Green)\n",
    "data_color = {'color': ['Red', 'Blue', 'Green', 'Red', 'Green']}\n",
    "df_color = pd.DataFrame(data_color)\n",
    "df_color_encoded = pd.get_dummies(df_color['color'])\n",
    "print(df_color_encoded)\n",
    "print()\n",
    "\n",
    "# 將 One-hot Encoding 結果與原 DataFrame 合併\n",
    "df_combined = pd.concat([df_color, df_color_encoded], axis=1)\n",
    "print(df_combined)"
   ]
  },
  {
   "cell_type": "markdown",
   "metadata": {},
   "source": [
    "# 課堂範例 :使用相關係數進行特徵選取\n",
    "- df.corr()：計算 DataFrame 中所有數值欄位之間的皮爾森相關係數矩陣\n",
    "- 可以檢視特徵之間的高度相關性 (冗餘特徵)，或特徵與目標變數的相關性"
   ]
  },
  {
   "cell_type": "code",
   "execution_count": null,
   "metadata": {},
   "outputs": [],
   "source": [
    " # 載入必要的套件\n",
    "import pandas as pd\n",
    "from sklearn.datasets import fetch_openml\n",
    "boston = fetch_openml(name='boston', version=1, as_frame=True)\n",
    "df = boston.frame\n",
    "df['target'] = df['MEDV']\n",
    "df.head(5)"
   ]
  },
  {
   "cell_type": "code",
   "execution_count": null,
   "metadata": {},
   "outputs": [],
   "source": [
    "# 計算相關係數矩陣並查看與目標變數的相關性\n",
    "correlation_matrix = df.corr()\n",
    "print(\"特徵與目標變數的相關係數:\\n\", correlation_matrix['target'].sort_values(ascending=False))\n",
    "# 可以考慮移除與目標變數相關性低的特徵，或特徵之間相關性高的特徵 (擇一保留)"
   ]
  },
  {
   "cell_type": "markdown",
   "metadata": {},
   "source": [
    "# 課堂示範 & 練習: 資料切割 (Data Splitting)"
   ]
  },
  {
   "cell_type": "code",
   "execution_count": null,
   "metadata": {},
   "outputs": [],
   "source": [
    "# 切割資料集範例 (波士頓房價資料集)\n",
    "from sklearn.model_selection import train_test_split\n",
    "\n",
    "# 將特徵 (X) 和目標變數 (Y) 分開\n",
    "# 在進行資料前處理時，通常只對特徵 (X) 進行處理，目標變數 (Y) 不處理標準化等\n",
    "X = df.drop('target', axis=1) # 移除 target 欄位作為特徵\n",
    "Y = df['target'] # target 欄位作為目標變數\n",
    "\n",
    "# 將資料分割為訓練集和測試集，測試集佔 33%\n",
    "# random_state 確保每次分割結果相同\n",
    "X_train, X_test, Y_train, Y_test = train_test_split(X, Y, test_size=0.33, random_state=42)\n",
    "\n",
    "# 學生自行練習: 查看分割後的資料形狀\n",
    "print(\"原始資料形狀:\", df.shape)\n",
    "print(\"訓練集特徵形狀:\", X_train.shape)\n",
    "print(\"測試集特徵形狀:\", X_test.shape)\n",
    "print(\"訓練集目標形狀:\", Y_train.shape)\n",
    "print(\"測試集目標形狀:\", Y_test.shape)"
   ]
  }
 ],
 "metadata": {
  "colab": {
   "provenance": []
  },
  "kernelspec": {
   "display_name": "Python 3",
   "language": "python",
   "name": "python3"
  },
  "language_info": {
   "codemirror_mode": {
    "name": "ipython",
    "version": 3
   },
   "file_extension": ".py",
   "mimetype": "text/x-python",
   "name": "python",
   "nbconvert_exporter": "python",
   "pygments_lexer": "ipython3",
   "version": "3.12.1"
  }
 },
 "nbformat": 4,
 "nbformat_minor": 0
}
